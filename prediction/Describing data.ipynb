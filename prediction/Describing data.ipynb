{
 "cells": [
  {
   "cell_type": "markdown",
   "metadata": {},
   "source": [
    "           SADIO Stéphane, M1 MIND / SIAD\n",
    "           Université de Montpellier\n",
    "           Faculté des sciences de Montpellier                        Montpeliier, le 01 Avril 2021.\n",
    "\n",
    "                 Prédiction sur les données du trafic de vélo à Albert 1er."
   ]
  },
  {
   "cell_type": "markdown",
   "metadata": {},
   "source": [
    "# PRESENTATION DU JEU DE DONNEES\n",
    "\n",
    "L'objectif de notre étude est de réaliser une prédiction sur les données récoltées par des compteurs vélos déployé par Totem Montpellier à Albert 1er afin de compter le passage de vélo dans cette zone.\n",
    "\n",
    "Le jeu de données est constitué de 771 788 lignes et de 9 variables: Date et heure de comptage, Vélos depuis le 1er janvier 2020,Vélos ce jour, Remarque, Unammed.\n",
    "\n",
    "Les variables qui serviront principalement à mener à bien notre analyse sont le nombre de Vélos ce jour (notre variable cible), la date et heure du comptage."
   ]
  },
  {
   "cell_type": "markdown",
   "metadata": {},
   "source": [
    "# Le prétraitement des données à été réalisé en plusieurs étapes à savoir:\n",
    "\n",
    "Nous avons tout d'abord supprimé les valeurs manquantes grâce à la fonction dropna(). Nous avons opté pour la suppression des valeurs manquantes et non leur remplacement car elles ne correspondent qu’à 3% des données présentes dans notre jeu de données et ne possèdent donc pas de réel impact sur les résultats.\n",
    "Nous avons avons par la suite visualiser les nouvelles données sans les valeurs maquantes pour voir s'il n'y a pas des valaurs abérantes. Nous avons donc constaté que pendant les deux confinement il y avait une baisse considérable du nombre de vélo qui passe. Outre l'année 2020 est néttement différente de l'année 2021. Nous avons donc décidé d'ignorer toutes les données relever en 2020. Par ailleure, l'activité des jours de la semaine est également différente de celle des week-end, et nous cherchons à prédire le nombre de comtage sur une période de minuit vers 09 heures 00 munites, le Vendredi. A cet effet, nous avons décidé d'ignorer également les comtages des week-end ainsi ceux qui sont hors des heures entre 08 heueres et 10 heuers.\n",
    "\n",
    "Nous avons donc par la suite travaillé sur un jeu de données de 48 lignes et une colonne.\n",
    "\n"
   ]
  },
  {
   "cell_type": "code",
   "execution_count": null,
   "metadata": {},
   "outputs": [],
   "source": []
  }
 ],
 "metadata": {
  "kernelspec": {
   "display_name": "Python 3",
   "language": "python",
   "name": "python3"
  },
  "language_info": {
   "codemirror_mode": {
    "name": "ipython",
    "version": 3
   },
   "file_extension": ".py",
   "mimetype": "text/x-python",
   "name": "python",
   "nbconvert_exporter": "python",
   "pygments_lexer": "ipython3",
   "version": "3.8.5"
  }
 },
 "nbformat": 4,
 "nbformat_minor": 4
}
